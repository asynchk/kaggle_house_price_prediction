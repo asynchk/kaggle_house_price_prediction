{
 "cells": [
  {
   "cell_type": "code",
   "execution_count": 16,
   "metadata": {},
   "outputs": [
    {
     "data": {
      "text/plain": [
       "array([[0.  , 1.  , 1.  , 0.75, 0.33, 0.01],\n",
       "       [1.  , 0.  , 0.01, 0.33, 0.75, 1.  ],\n",
       "       [1.  , 0.01, 0.  , 0.33, 0.75, 1.  ],\n",
       "       [0.75, 0.33, 0.33, 0.  , 0.8 , 0.8 ],\n",
       "       [0.33, 0.75, 0.75, 0.8 , 0.  , 0.33],\n",
       "       [0.01, 1.  , 1.  , 0.8 , 0.33, 0.  ]])"
      ]
     },
     "metadata": {},
     "output_type": "display_data"
    },
    {
     "data": {
      "image/png": "[encoded data removed]",
      "text/plain": [
       "<Figure size 432x288 with 1 Axes>"
      ]
     },
     "metadata": {
      "needs_background": "light"
     },
     "output_type": "display_data"
    }
   ],
   "source": [
    "import numpy as np\n",
    "\n",
    "from scipy.cluster.hierarchy import dendrogram, linkage\n",
    "from scipy.spatial.distance import squareform\n",
    "\n",
    "import matplotlib.pyplot as plt\n",
    "\n",
    "\n",
    "mat = np.array([\n",
    "    [0.0, 1.0,1,0.75,0.33,0.01],\n",
    "    [1.0, 0.0,0.01,0.33,0.75,1.0],\n",
    "    [1.0,0.01,0.0,0.33,0.75,1.0],\n",
    "    [0.75,0.33,0.33,0.0,0.8,0.8],\n",
    "    [0.33,0.75,0.75,0.8,0.0, 0.33],\n",
    "    [0.01,1.0,1.0,0.8,0.33,0.0]])\n",
    "display(mat)                                                                                                              \n",
    "dists = squareform(mat)\n",
    "linkage_matrix = linkage(dists, \"single\")\n",
    "dendrogram(linkage_matrix, labels=[\"A\", \"B\", \"C\", \"D\", \"E\", \"F\"], show_leaf_counts=True)\n",
    "plt.title(\"Social network graph\")\n",
    "plt.show()"
   ]
  }
 ],
 "metadata": {
  "kernelspec": {
   "display_name": "Python 3",
   "language": "python",
   "name": "python3"
  },
  "language_info": {
   "codemirror_mode": {
    "name": "ipython",
    "version": 3
   },
   "file_extension": ".py",
   "mimetype": "text/x-python",
   "name": "python",
   "nbconvert_exporter": "python",
   "pygments_lexer": "ipython3",
   "version": "3.7.6"
  }
 },
 "nbformat": 4,
 "nbformat_minor": 4
}
